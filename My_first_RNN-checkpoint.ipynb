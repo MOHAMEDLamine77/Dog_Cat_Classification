{
 "cells": [
  {
   "cell_type": "markdown",
   "metadata": {},
   "source": [
    "Importing the librairy"
   ]
  },
  {
   "cell_type": "code",
   "execution_count": 1,
   "metadata": {},
   "outputs": [],
   "source": [
    "import tensorflow as tf \n",
    "from tensorflow import keras\n",
    "import numpy as np\n",
    "import pandas as pd\n",
    "import matplotlib.pyplot as plt\n",
    "from sklearn.preprocessing import MinMaxScaler"
   ]
  },
  {
   "cell_type": "markdown",
   "metadata": {},
   "source": [
    "Importing the fake dataset because the real dataset for this exemple is called 'Google_stock_price_train.csv'"
   ]
  },
  {
   "cell_type": "code",
   "execution_count": 2,
   "metadata": {},
   "outputs": [],
   "source": [
    "data = pd.read_csv('D:\\\\IA\\\\Deep Learning\\\\DATAsets\\\\Data for DNN\\\\Churn_Modelling.csv')"
   ]
  },
  {
   "cell_type": "markdown",
   "metadata": {},
   "source": [
    "Take important values in the data set for my RNN's LSTM"
   ]
  },
  {
   "cell_type": "code",
   "execution_count": 27,
   "metadata": {},
   "outputs": [],
   "source": [
    "training_set = data.iloc[0:1258 , 12:13].values"
   ]
  },
  {
   "cell_type": "code",
   "execution_count": 28,
   "metadata": {},
   "outputs": [
    {
     "name": "stdout",
     "output_type": "stream",
     "text": [
      "[[101348.88]\n",
      " [112542.58]\n",
      " [113931.57]\n",
      " ...\n",
      " [ 62825.03]\n",
      " [184056.45]\n",
      " [ 48924.73]]\n"
     ]
    }
   ],
   "source": [
    "print(training_set)"
   ]
  },
  {
   "cell_type": "markdown",
   "metadata": {},
   "source": [
    "data normalization with scikitlearn"
   ]
  },
  {
   "cell_type": "code",
   "execution_count": 29,
   "metadata": {},
   "outputs": [],
   "source": [
    "sc = MinMaxScaler(feature_range=(0, 1))\n",
    "train_scaled = sc.fit_transform(training_set)\n"
   ]
  },
  {
   "cell_type": "code",
   "execution_count": 30,
   "metadata": {},
   "outputs": [
    {
     "name": "stdout",
     "output_type": "stream",
     "text": [
      "[[0.50652436]\n",
      " [0.56267413]\n",
      " [0.56964157]\n",
      " ...\n",
      " [0.31328127]\n",
      " [0.92140156]\n",
      " [0.24355467]]\n"
     ]
    }
   ],
   "source": [
    "print(train_scaled)"
   ]
  },
  {
   "cell_type": "markdown",
   "metadata": {},
   "source": [
    "Creating a data structure with 60 time step for our RNN"
   ]
  },
  {
   "cell_type": "code",
   "execution_count": 7,
   "metadata": {},
   "outputs": [],
   "source": [
    "x_train = []\n",
    "y_train = []\n",
    "for i in range(60, 1258):\n",
    "    x_train.append(train_scaled[ i-60 : i , 0])\n",
    "    y_train.append(train_scaled[ i , 0 ])\n",
    "    \n",
    "    "
   ]
  },
  {
   "cell_type": "markdown",
   "metadata": {},
   "source": [
    "transforming the x_train and the y_train to the numpy array for our RNN inputs "
   ]
  },
  {
   "cell_type": "code",
   "execution_count": 31,
   "metadata": {},
   "outputs": [],
   "source": [
    "x_train = np.array(x_train)\n",
    "y_train = np.array(y_train)"
   ]
  },
  {
   "cell_type": "code",
   "execution_count": 32,
   "metadata": {},
   "outputs": [
    {
     "name": "stdout",
     "output_type": "stream",
     "text": [
      "[0.42205512 0.63266127 0.89502481 ... 0.31328127 0.92140156 0.24355467]\n"
     ]
    }
   ],
   "source": [
    "print(y_train)"
   ]
  },
  {
   "cell_type": "code",
   "execution_count": 33,
   "metadata": {},
   "outputs": [
    {
     "name": "stdout",
     "output_type": "stream",
     "text": [
      "[[[0.50652436]\n",
      "  [0.56267413]\n",
      "  [0.56964157]\n",
      "  ...\n",
      "  [0.22694615]\n",
      "  [0.0063809 ]\n",
      "  [0.23277261]]\n",
      "\n",
      " [[0.56267413]\n",
      "  [0.56964157]\n",
      "  [0.4687913 ]\n",
      "  ...\n",
      "  [0.0063809 ]\n",
      "  [0.23277261]\n",
      "  [0.42205512]]\n",
      "\n",
      " [[0.56964157]\n",
      "  [0.4687913 ]\n",
      "  [0.39483991]\n",
      "  ...\n",
      "  [0.23277261]\n",
      "  [0.42205512]\n",
      "  [0.63266127]]\n",
      "\n",
      " ...\n",
      "\n",
      " [[0.27462898]\n",
      "  [0.14240944]\n",
      "  [0.85601542]\n",
      "  ...\n",
      "  [0.30698113]\n",
      "  [0.61648349]\n",
      "  [0.15500586]]\n",
      "\n",
      " [[0.14240944]\n",
      "  [0.85601542]\n",
      "  [0.88439344]\n",
      "  ...\n",
      "  [0.61648349]\n",
      "  [0.15500586]\n",
      "  [0.31328127]]\n",
      "\n",
      " [[0.85601542]\n",
      "  [0.88439344]\n",
      "  [0.14194078]\n",
      "  ...\n",
      "  [0.15500586]\n",
      "  [0.31328127]\n",
      "  [0.92140156]]]\n"
     ]
    }
   ],
   "source": [
    "print(x_train)"
   ]
  },
  {
   "cell_type": "code",
   "execution_count": 34,
   "metadata": {},
   "outputs": [
    {
     "name": "stdout",
     "output_type": "stream",
     "text": [
      "(1198, 60, 1)\n"
     ]
    }
   ],
   "source": [
    "print(x_train.shape)"
   ]
  },
  {
   "cell_type": "code",
   "execution_count": 35,
   "metadata": {},
   "outputs": [
    {
     "name": "stdout",
     "output_type": "stream",
     "text": [
      "(1198,)\n"
     ]
    }
   ],
   "source": [
    "print(y_train.shape)"
   ]
  },
  {
   "cell_type": "markdown",
   "metadata": {},
   "source": [
    "Reshaping our data to 3D dimensions because this is the dimensions expected by our RNN network you should see this order of dimensions in documentation of keras for better understanding"
   ]
  },
  {
   "cell_type": "code",
   "execution_count": 36,
   "metadata": {},
   "outputs": [],
   "source": [
    "x_train = np.reshape(x_train, (x_train.shape[0], x_train.shape[1], 1 ))"
   ]
  },
  {
   "cell_type": "code",
   "execution_count": 37,
   "metadata": {},
   "outputs": [
    {
     "name": "stdout",
     "output_type": "stream",
     "text": [
      "(1198, 60, 1)\n"
     ]
    }
   ],
   "source": [
    "print(x_train.shape)"
   ]
  },
  {
   "cell_type": "markdown",
   "metadata": {},
   "source": [
    "Now we will build our RNN model with LSTM layers"
   ]
  },
  {
   "cell_type": "code",
   "execution_count": 38,
   "metadata": {},
   "outputs": [],
   "source": [
    "regressor = keras.models.Sequential()\n",
    "\n",
    "regressor.add(keras.layers.LSTM(units=50, return_sequences=True, input_shape=(x_train.shape[1],1)))\n",
    "regressor.add(keras.layers.Dropout(0.2))\n",
    "\n",
    "regressor.add(keras.layers.LSTM(units=50, return_sequences=True))\n",
    "regressor.add(keras.layers.Dropout(0.2))\n",
    "\n",
    "regressor.add(keras.layers.LSTM(units=50, return_sequences=True))\n",
    "regressor.add(keras.layers.Dropout(0.2))\n",
    "\n",
    "regressor.add(keras.layers.LSTM(units=50, return_sequences=False))\n",
    "regressor.add(keras.layers.Dropout(0.2))\n",
    "\n",
    "\n",
    "regressor.add(keras.layers.Dense(units=1))\n",
    "\n"
   ]
  },
  {
   "cell_type": "markdown",
   "metadata": {},
   "source": [
    "Now we compile our model "
   ]
  },
  {
   "cell_type": "code",
   "execution_count": 39,
   "metadata": {},
   "outputs": [],
   "source": [
    "regressor.compile(optimizer='adam', loss='mean_squared_error')"
   ]
  },
  {
   "cell_type": "markdown",
   "metadata": {},
   "source": [
    "Train our model"
   ]
  },
  {
   "cell_type": "code",
   "execution_count": 17,
   "metadata": {},
   "outputs": [
    {
     "name": "stdout",
     "output_type": "stream",
     "text": [
      "WARNING:tensorflow:From C:\\ProgramData\\Anaconda3\\lib\\site-packages\\tensorflow_core\\python\\ops\\math_grad.py:1424: where (from tensorflow.python.ops.array_ops) is deprecated and will be removed in a future version.\n",
      "Instructions for updating:\n",
      "Use tf.where in 2.0, which has the same broadcast rule as np.where\n",
      "Train on 1198 samples\n",
      "Epoch 1/100\n",
      "1198/1198 [==============================] - 9s 7ms/sample - loss: 0.1081\n",
      "Epoch 2/100\n",
      "1198/1198 [==============================] - 6s 5ms/sample - loss: 0.0904\n",
      "Epoch 3/100\n",
      "1198/1198 [==============================] - 6s 5ms/sample - loss: 0.0888\n",
      "Epoch 4/100\n",
      "1198/1198 [==============================] - 6s 5ms/sample - loss: 0.0870\n",
      "Epoch 5/100\n",
      "1198/1198 [==============================] - 5s 5ms/sample - loss: 0.0874\n",
      "Epoch 6/100\n",
      "1198/1198 [==============================] - 6s 5ms/sample - loss: 0.0877\n",
      "Epoch 7/100\n",
      "1198/1198 [==============================] - 6s 5ms/sample - loss: 0.0852\n",
      "Epoch 8/100\n",
      "1198/1198 [==============================] - 6s 5ms/sample - loss: 0.0910\n",
      "Epoch 9/100\n",
      "1198/1198 [==============================] - 6s 5ms/sample - loss: 0.0877\n",
      "Epoch 10/100\n",
      "1198/1198 [==============================] - 6s 5ms/sample - loss: 0.0871\n",
      "Epoch 11/100\n",
      "1198/1198 [==============================] - 6s 5ms/sample - loss: 0.0856\n",
      "Epoch 12/100\n",
      "1198/1198 [==============================] - 6s 5ms/sample - loss: 0.0869\n",
      "Epoch 13/100\n",
      "1198/1198 [==============================] - 6s 5ms/sample - loss: 0.0870\n",
      "Epoch 14/100\n",
      "1198/1198 [==============================] - 6s 5ms/sample - loss: 0.0855\n",
      "Epoch 15/100\n",
      "1198/1198 [==============================] - 6s 5ms/sample - loss: 0.0857\n",
      "Epoch 16/100\n",
      "1198/1198 [==============================] - 6s 5ms/sample - loss: 0.0860\n",
      "Epoch 17/100\n",
      "1198/1198 [==============================] - 6s 5ms/sample - loss: 0.0876\n",
      "Epoch 18/100\n",
      "1198/1198 [==============================] - 6s 5ms/sample - loss: 0.0853\n",
      "Epoch 19/100\n",
      "1198/1198 [==============================] - 6s 5ms/sample - loss: 0.0856\n",
      "Epoch 20/100\n",
      "1198/1198 [==============================] - 6s 5ms/sample - loss: 0.0863\n",
      "Epoch 21/100\n",
      "1198/1198 [==============================] - 6s 5ms/sample - loss: 0.0849\n",
      "Epoch 22/100\n",
      "1198/1198 [==============================] - 6s 5ms/sample - loss: 0.0870\n",
      "Epoch 23/100\n",
      "1198/1198 [==============================] - 6s 5ms/sample - loss: 0.0860\n",
      "Epoch 24/100\n",
      "1198/1198 [==============================] - 6s 5ms/sample - loss: 0.0880\n",
      "Epoch 25/100\n",
      "1198/1198 [==============================] - 6s 5ms/sample - loss: 0.0869\n",
      "Epoch 26/100\n",
      "1198/1198 [==============================] - 6s 5ms/sample - loss: 0.0858\n",
      "Epoch 27/100\n",
      "1198/1198 [==============================] - 6s 5ms/sample - loss: 0.0857\n",
      "Epoch 28/100\n",
      "1198/1198 [==============================] - 6s 5ms/sample - loss: 0.0850\n",
      "Epoch 29/100\n",
      "1198/1198 [==============================] - 6s 5ms/sample - loss: 0.0857\n",
      "Epoch 30/100\n",
      "1198/1198 [==============================] - 6s 5ms/sample - loss: 0.0842\n",
      "Epoch 31/100\n",
      "1198/1198 [==============================] - 6s 5ms/sample - loss: 0.0858\n",
      "Epoch 32/100\n",
      "1198/1198 [==============================] - 6s 5ms/sample - loss: 0.0855\n",
      "Epoch 33/100\n",
      "1198/1198 [==============================] - 6s 5ms/sample - loss: 0.0849\n",
      "Epoch 34/100\n",
      "1198/1198 [==============================] - 6s 5ms/sample - loss: 0.0860\n",
      "Epoch 35/100\n",
      "1198/1198 [==============================] - 6s 5ms/sample - loss: 0.0855\n",
      "Epoch 36/100\n",
      "1198/1198 [==============================] - 6s 5ms/sample - loss: 0.0849\n",
      "Epoch 37/100\n",
      "1198/1198 [==============================] - 6s 5ms/sample - loss: 0.0850\n",
      "Epoch 38/100\n",
      "1198/1198 [==============================] - 6s 5ms/sample - loss: 0.0861\n",
      "Epoch 39/100\n",
      "1198/1198 [==============================] - 6s 5ms/sample - loss: 0.0856\n",
      "Epoch 40/100\n",
      "1198/1198 [==============================] - 6s 5ms/sample - loss: 0.0862\n",
      "Epoch 41/100\n",
      "1198/1198 [==============================] - 6s 5ms/sample - loss: 0.0847\n",
      "Epoch 42/100\n",
      "1198/1198 [==============================] - 6s 5ms/sample - loss: 0.0850\n",
      "Epoch 43/100\n",
      "1198/1198 [==============================] - 6s 5ms/sample - loss: 0.0842\n",
      "Epoch 44/100\n",
      "1198/1198 [==============================] - 6s 5ms/sample - loss: 0.0861\n",
      "Epoch 45/100\n",
      "1198/1198 [==============================] - 6s 5ms/sample - loss: 0.0849\n",
      "Epoch 46/100\n",
      "1198/1198 [==============================] - 6s 5ms/sample - loss: 0.0859\n",
      "Epoch 47/100\n",
      "1198/1198 [==============================] - 6s 5ms/sample - loss: 0.0857\n",
      "Epoch 48/100\n",
      "1198/1198 [==============================] - 6s 5ms/sample - loss: 0.0860\n",
      "Epoch 49/100\n",
      "1198/1198 [==============================] - 7s 5ms/sample - loss: 0.0860\n",
      "Epoch 50/100\n",
      "1198/1198 [==============================] - 6s 5ms/sample - loss: 0.0852\n",
      "Epoch 51/100\n",
      "1198/1198 [==============================] - 6s 5ms/sample - loss: 0.0856\n",
      "Epoch 52/100\n",
      "1198/1198 [==============================] - 6s 5ms/sample - loss: 0.0851\n",
      "Epoch 53/100\n",
      "1198/1198 [==============================] - 6s 5ms/sample - loss: 0.0846\n",
      "Epoch 54/100\n",
      "1198/1198 [==============================] - 6s 5ms/sample - loss: 0.0850\n",
      "Epoch 55/100\n",
      "1198/1198 [==============================] - 6s 5ms/sample - loss: 0.0852\n",
      "Epoch 56/100\n",
      "1198/1198 [==============================] - 6s 5ms/sample - loss: 0.0843\n",
      "Epoch 57/100\n",
      "1198/1198 [==============================] - 7s 6ms/sample - loss: 0.0850\n",
      "Epoch 58/100\n",
      "1198/1198 [==============================] - 7s 6ms/sample - loss: 0.0840\n",
      "Epoch 59/100\n",
      "1198/1198 [==============================] - 6s 5ms/sample - loss: 0.0848\n",
      "Epoch 60/100\n",
      "1198/1198 [==============================] - 6s 5ms/sample - loss: 0.0847 0s - loss: \n",
      "Epoch 61/100\n",
      "1198/1198 [==============================] - 6s 5ms/sample - loss: 0.0841\n",
      "Epoch 62/100\n",
      "1198/1198 [==============================] - 6s 5ms/sample - loss: 0.0846\n",
      "Epoch 63/100\n",
      "1198/1198 [==============================] - 7s 5ms/sample - loss: 0.0848\n",
      "Epoch 64/100\n",
      "1198/1198 [==============================] - 6s 5ms/sample - loss: 0.0867\n",
      "Epoch 65/100\n",
      "1198/1198 [==============================] - 6s 5ms/sample - loss: 0.0855\n",
      "Epoch 66/100\n",
      "1198/1198 [==============================] - 6s 5ms/sample - loss: 0.0854 0s - loss: \n",
      "Epoch 67/100\n",
      "1198/1198 [==============================] - 6s 5ms/sample - loss: 0.0845\n",
      "Epoch 68/100\n",
      "1198/1198 [==============================] - 6s 5ms/sample - loss: 0.0855\n",
      "Epoch 69/100\n",
      "1198/1198 [==============================] - 6s 5ms/sample - loss: 0.0844\n",
      "Epoch 70/100\n",
      "1198/1198 [==============================] - 6s 5ms/sample - loss: 0.0844\n",
      "Epoch 71/100\n",
      "1198/1198 [==============================] - 6s 5ms/sample - loss: 0.0851\n",
      "Epoch 72/100\n",
      "1198/1198 [==============================] - 6s 5ms/sample - loss: 0.0852\n",
      "Epoch 73/100\n",
      "1198/1198 [==============================] - 7s 5ms/sample - loss: 0.0839\n",
      "Epoch 74/100\n",
      "1198/1198 [==============================] - 6s 5ms/sample - loss: 0.0852\n",
      "Epoch 75/100\n",
      "1198/1198 [==============================] - 6s 5ms/sample - loss: 0.0845\n",
      "Epoch 76/100\n",
      "1198/1198 [==============================] - 7s 6ms/sample - loss: 0.0861\n",
      "Epoch 77/100\n",
      "1198/1198 [==============================] - 6s 5ms/sample - loss: 0.0845\n",
      "Epoch 78/100\n",
      "1198/1198 [==============================] - 6s 5ms/sample - loss: 0.0847\n",
      "Epoch 79/100\n",
      "1198/1198 [==============================] - 6s 5ms/sample - loss: 0.0847\n",
      "Epoch 80/100\n",
      "1198/1198 [==============================] - 6s 5ms/sample - loss: 0.0850\n",
      "Epoch 81/100\n",
      "1198/1198 [==============================] - 6s 5ms/sample - loss: 0.0851\n",
      "Epoch 82/100\n",
      "1198/1198 [==============================] - 6s 5ms/sample - loss: 0.0846\n",
      "Epoch 83/100\n",
      "1198/1198 [==============================] - 6s 5ms/sample - loss: 0.0848\n",
      "Epoch 84/100\n",
      "1198/1198 [==============================] - 6s 5ms/sample - loss: 0.0844\n",
      "Epoch 85/100\n",
      "1198/1198 [==============================] - 6s 5ms/sample - loss: 0.0853\n",
      "Epoch 86/100\n",
      "1198/1198 [==============================] - 6s 5ms/sample - loss: 0.0850\n",
      "Epoch 87/100\n",
      "1198/1198 [==============================] - 6s 5ms/sample - loss: 0.0850\n",
      "Epoch 88/100\n",
      "1198/1198 [==============================] - 7s 5ms/sample - loss: 0.0846\n",
      "Epoch 89/100\n",
      "1198/1198 [==============================] - 6s 5ms/sample - loss: 0.0848\n",
      "Epoch 90/100\n",
      "1198/1198 [==============================] - 7s 6ms/sample - loss: 0.0836\n",
      "Epoch 91/100\n",
      "1198/1198 [==============================] - 7s 6ms/sample - loss: 0.0840\n",
      "Epoch 92/100\n",
      "1198/1198 [==============================] - 6s 5ms/sample - loss: 0.0841\n",
      "Epoch 93/100\n",
      "1198/1198 [==============================] - 6s 5ms/sample - loss: 0.0851\n",
      "Epoch 94/100\n",
      "1198/1198 [==============================] - 6s 5ms/sample - loss: 0.0848\n",
      "Epoch 95/100\n",
      "1198/1198 [==============================] - 6s 5ms/sample - loss: 0.0855\n",
      "Epoch 96/100\n",
      "1198/1198 [==============================] - 7s 5ms/sample - loss: 0.0853\n",
      "Epoch 97/100\n",
      "1198/1198 [==============================] - 6s 5ms/sample - loss: 0.0850\n",
      "Epoch 98/100\n",
      "1198/1198 [==============================] - 6s 5ms/sample - loss: 0.0848\n",
      "Epoch 99/100\n",
      "1198/1198 [==============================] - 6s 5ms/sample - loss: 0.0846\n",
      "Epoch 100/100\n",
      "1198/1198 [==============================] - 6s 5ms/sample - loss: 0.0840\n"
     ]
    },
    {
     "data": {
      "text/plain": [
       "<tensorflow.python.keras.callbacks.History at 0x1b537688240>"
      ]
     },
     "execution_count": 17,
     "metadata": {},
     "output_type": "execute_result"
    }
   ],
   "source": [
    "regressor.fit(x_train, y_train, epochs=100, batch_size=32)"
   ]
  },
  {
   "cell_type": "markdown",
   "metadata": {},
   "source": [
    "Saving model"
   ]
  },
  {
   "cell_type": "code",
   "execution_count": 21,
   "metadata": {},
   "outputs": [],
   "source": [
    "regressor.save('first_RNN')"
   ]
  },
  {
   "cell_type": "markdown",
   "metadata": {},
   "source": [
    "Calling for model if we want to use it "
   ]
  },
  {
   "cell_type": "code",
   "execution_count": 22,
   "metadata": {},
   "outputs": [],
   "source": [
    "#new_model = keras.models.load_model('first_RNN')"
   ]
  },
  {
   "cell_type": "markdown",
   "metadata": {},
   "source": [
    "Now we find the test data from data "
   ]
  },
  {
   "cell_type": "code",
   "execution_count": 42,
   "metadata": {},
   "outputs": [],
   "source": [
    "test_set = data.iloc[2000:2101 , 12:13].values"
   ]
  },
  {
   "cell_type": "code",
   "execution_count": 43,
   "metadata": {},
   "outputs": [
    {
     "name": "stdout",
     "output_type": "stream",
     "text": [
      "(101, 1)\n"
     ]
    }
   ],
   "source": [
    "print(test_set.shape)"
   ]
  },
  {
   "cell_type": "markdown",
   "metadata": {},
   "source": [
    "Now we predict some data 'test_set' and in first we concatenate the data of test with the training data"
   ]
  },
  {
   "cell_type": "code",
   "execution_count": 45,
   "metadata": {},
   "outputs": [
    {
     "ename": "IndexError",
     "evalue": "only integers, slices (`:`), ellipsis (`...`), numpy.newaxis (`None`) and integer or boolean arrays are valid indices",
     "output_type": "error",
     "traceback": [
      "\u001b[1;31m---------------------------------------------------------------------------\u001b[0m",
      "\u001b[1;31mIndexError\u001b[0m                                Traceback (most recent call last)",
      "\u001b[1;32m<ipython-input-45-ae8cfee75fce>\u001b[0m in \u001b[0;36m<module>\u001b[1;34m\u001b[0m\n\u001b[1;32m----> 1\u001b[1;33m \u001b[0mdataset_total\u001b[0m \u001b[1;33m=\u001b[0m \u001b[0mpd\u001b[0m\u001b[1;33m.\u001b[0m\u001b[0mconcat\u001b[0m\u001b[1;33m(\u001b[0m\u001b[1;33m(\u001b[0m\u001b[0mtraining_set\u001b[0m\u001b[1;33m[\u001b[0m\u001b[1;34m'EstimatedSalary'\u001b[0m\u001b[1;33m]\u001b[0m\u001b[1;33m,\u001b[0m \u001b[0mtest_set\u001b[0m\u001b[1;33m[\u001b[0m\u001b[1;34m'EstimatedSalary'\u001b[0m\u001b[1;33m]\u001b[0m\u001b[1;33m)\u001b[0m\u001b[1;33m,\u001b[0m \u001b[0maxis\u001b[0m\u001b[1;33m=\u001b[0m\u001b[1;36m0\u001b[0m\u001b[1;33m)\u001b[0m\u001b[1;33m\u001b[0m\u001b[0m\n\u001b[0m\u001b[0;32m      2\u001b[0m \u001b[0minputs\u001b[0m \u001b[1;33m=\u001b[0m \u001b[0mdataset_total\u001b[0m\u001b[1;33m[\u001b[0m\u001b[0mlen\u001b[0m\u001b[1;33m(\u001b[0m\u001b[0mdataset_total\u001b[0m\u001b[1;33m)\u001b[0m \u001b[1;33m-\u001b[0m \u001b[0mlen\u001b[0m\u001b[1;33m(\u001b[0m\u001b[0mtest_set\u001b[0m\u001b[1;33m)\u001b[0m \u001b[1;33m-\u001b[0m \u001b[1;36m60\u001b[0m\u001b[1;33m]\u001b[0m\u001b[1;33m.\u001b[0m\u001b[0mvalues\u001b[0m\u001b[1;33m\u001b[0m\u001b[0m\n\u001b[0;32m      3\u001b[0m \u001b[0minputs\u001b[0m \u001b[1;33m=\u001b[0m \u001b[0minputs\u001b[0m\u001b[1;33m.\u001b[0m\u001b[0mreshape\u001b[0m\u001b[1;33m(\u001b[0m\u001b[1;33m-\u001b[0m\u001b[1;36m1\u001b[0m\u001b[1;33m,\u001b[0m \u001b[1;36m1\u001b[0m\u001b[1;33m)\u001b[0m\u001b[1;33m\u001b[0m\u001b[0m\n\u001b[0;32m      4\u001b[0m \u001b[0minputs\u001b[0m \u001b[1;33m=\u001b[0m \u001b[0msc\u001b[0m\u001b[1;33m.\u001b[0m\u001b[0mtransform\u001b[0m\u001b[1;33m(\u001b[0m\u001b[0minputs\u001b[0m\u001b[1;33m)\u001b[0m\u001b[1;33m\u001b[0m\u001b[0m\n",
      "\u001b[1;31mIndexError\u001b[0m: only integers, slices (`:`), ellipsis (`...`), numpy.newaxis (`None`) and integer or boolean arrays are valid indices"
     ]
    }
   ],
   "source": [
    "dataset_total = pd.concat((training_set['EstimatedSalary'], test_set['EstimatedSalary']), axis=0)\n",
    "inputs = dataset_total[len(dataset_total) - len(test_set) - 60].values\n",
    "inputs = inputs.reshape(-1, 1)\n",
    "inputs = sc.transform(inputs)"
   ]
  },
  {
   "cell_type": "code",
   "execution_count": null,
   "metadata": {},
   "outputs": [],
   "source": []
  }
 ],
 "metadata": {
  "kernelspec": {
   "display_name": "Python 3",
   "language": "python",
   "name": "python3"
  },
  "language_info": {
   "codemirror_mode": {
    "name": "ipython",
    "version": 3
   },
   "file_extension": ".py",
   "mimetype": "text/x-python",
   "name": "python",
   "nbconvert_exporter": "python",
   "pygments_lexer": "ipython3",
   "version": "3.6.5"
  }
 },
 "nbformat": 4,
 "nbformat_minor": 4
}
